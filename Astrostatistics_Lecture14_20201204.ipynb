{
  "nbformat": 4,
  "nbformat_minor": 0,
  "metadata": {
    "colab": {
      "provenance": [],
      "collapsed_sections": [
        "C_72V4l2leGP",
        "02DYAC6asGLS"
      ],
      "include_colab_link": true
    },
    "kernelspec": {
      "name": "python3",
      "display_name": "Python 3"
    }
  },
  "cells": [
    {
      "cell_type": "markdown",
      "metadata": {
        "id": "view-in-github",
        "colab_type": "text"
      },
      "source": [
        "<a href=\"https://colab.research.google.com/github/sundarjhu/AstrostatsIRyA2023/blob/main/Astrostatistics_Lecture14_20201204.ipynb\" target=\"_parent\"><img src=\"https://colab.research.google.com/assets/colab-badge.svg\" alt=\"Open In Colab\"/></a>"
      ]
    },
    {
      "cell_type": "markdown",
      "metadata": {
        "id": "7yFOyTVHkudm"
      },
      "source": [
        "\n",
        "#Example of an $F$-test from Sec. 8.2 of Barlow\n",
        "### Do physics and engineering students get the same grades on a test?\n",
        "#### The answer is \"Yes\" if the mean of the grades for physics students is the same as that for the engineering students. This can be determined using a \"standard\" $t$-test.\n",
        "#### But we first have to confirm that the two sets of grades **have the same population variance**, for which we perform an $F$-test.\n",
        "---\n",
        "\n"
      ]
    },
    {
      "cell_type": "code",
      "metadata": {
        "id": "iyA5sNFdk2Lm"
      },
      "source": [
        "import numpy as np\n",
        "#Grades for physics students\n",
        "data1 = np.array([39, 18, 3, 22, 24, 29, 22, 22, 27, 28, 23, 48])\n",
        "#Grades for engineering students\n",
        "data2 = np.array([42, 23, 36, 35, 38, 42, 33])"
      ],
      "execution_count": 21,
      "outputs": []
    },
    {
      "cell_type": "markdown",
      "source": [
        "##### IMPORTANT! Define $F$ in such a way that its observed value $>1$."
      ],
      "metadata": {
        "id": "eTh0JkENYCt4"
      }
    },
    {
      "cell_type": "code",
      "metadata": {
        "id": "mODXaoThl0l-",
        "colab": {
          "base_uri": "https://localhost:8080/"
        },
        "outputId": "ddf216f2-dd6d-4203-d320-a5a4fe2656c8"
      },
      "source": [
        "#Construct the observed F-statistic\n",
        "var1 = data1.var(ddof = 1)\n",
        "var2 = data2.var(ddof = 1)\n",
        "#Define F such that F > 1\n",
        "if var1 > var2:\n",
        "  F = var1 / var2\n",
        "  dof1 = len(data1) - 1\n",
        "  dof2 = len(data2) - 1\n",
        "else:\n",
        "  F = var2 / var1\n",
        "  dof1 = len(data2) - 1\n",
        "  dof2 = len(data1) - 1\n",
        "\n",
        "print(f\"The observed value of the F statistic is {np.round(F, decimals=2)}\")"
      ],
      "execution_count": 3,
      "outputs": [
        {
          "output_type": "stream",
          "name": "stdout",
          "text": [
            "The observed value of the F statistic is 2.83\n"
          ]
        }
      ]
    },
    {
      "cell_type": "code",
      "metadata": {
        "colab": {
          "base_uri": "https://localhost:8080/"
        },
        "id": "LwY7jZybmIXi",
        "outputId": "3c8a4488-36ea-4096-8c49-2f955d4c5a54"
      },
      "source": [
        "#Perform the F-test\n",
        "from scipy.stats import f\n",
        "alpha = 0.05\n",
        "#Calculate number of degrees of freedom for both data sets\n",
        "dof1 = len(data1) - 1\n",
        "dof2 = len(data2) - 1\n",
        "pvalue = 1 - f.cdf(F, dof1, dof2)\n",
        "if pvalue <= alpha:\n",
        "  print(\"The p-value, {}, is lesser than the significance. The null hypothesis can be rejected!\".format(np.format_float_scientific(pvalue, precision = 3)))\n",
        "else:\n",
        "  print(\"The p-value, {}, is greater than the significance. There is no evidence for any difference in the population variances!\".format(np.format_float_scientific(pvalue, precision = 3)))"
      ],
      "execution_count": 4,
      "outputs": [
        {
          "output_type": "stream",
          "name": "stdout",
          "text": [
            "The p-value, 1.064e-01, is greater than the significance. There is no evidence for any difference in the population variances!\n"
          ]
        }
      ]
    },
    {
      "cell_type": "markdown",
      "metadata": {
        "id": "EVc1NRbJF9Qr"
      },
      "source": [
        "# Example of an $F$-test: testing for variability in light curves\n",
        "## For an application in the literature, see [Goyal et al. 2012 A&A 544A 37](https://ui.adsabs.harvard.edu/abs/2012A%26A...544A..37G/abstract)."
      ]
    },
    {
      "cell_type": "markdown",
      "metadata": {
        "id": "zeD5xMNqXSs-"
      },
      "source": [
        "### The intrinsic variability is modelled as a sinusoidal wave, sampled on a non-uniform grid as is usually the case with observations."
      ]
    },
    {
      "cell_type": "code",
      "metadata": {
        "id": "MLldjavg2tum"
      },
      "source": [
        "#Generate true flux of source with intrinsic sinusoidal variability\n",
        "import numpy as np\n",
        "def sinewave(t, period=12.0, amp=1.0, f_mean=5.0):\n",
        "  \"\"\"\n",
        "  Given a grid of time values t, return a sine wave with\n",
        "    the specified period, peak-to-peak amplitude, and mean flux\n",
        "  Arguments:\n",
        "  t -- grid of time values (same units as period)\n",
        "  period -- period of wave\n",
        "  amp -- peak-to-peak amplitude\n",
        "  f_mean -- mean flux\n",
        "  \"\"\"\n",
        "  return f_mean + 0.5 * amp * np.sin(2 * np.pi * t / period)\n",
        "\n",
        "period=12.0\n",
        "amp=1.0\n",
        "f_mean=1.0\n",
        "n_obs = 22\n",
        "#n_obs observations taken at randomly spaced times over 3.3 * period days\n",
        "seed = 1001\n",
        "np.random.seed(seed)\n",
        "t = np.random.choice(np.linspace(0, 3.3 * period, 2 * n_obs), size = n_obs)\n",
        "t = t[np.argsort(t)] # since they are randomly sampled, we sort the resulting times!\n",
        "f_true = sinewave(t, period=period, amp=amp, f_mean=f_mean)"
      ],
      "execution_count": 80,
      "outputs": []
    },
    {
      "cell_type": "markdown",
      "source": [
        "### Let's visualise the true flux of this source"
      ],
      "metadata": {
        "id": "k02v4QbaaHZI"
      }
    },
    {
      "cell_type": "code",
      "metadata": {
        "colab": {
          "base_uri": "https://localhost:8080/",
          "height": 484
        },
        "id": "brBraWr4HY-L",
        "outputId": "1af3ca09-1975-43ba-d9b2-b80002abe37e"
      },
      "source": [
        "from matplotlib import pyplot as plt\n",
        "plt.plot(t, f_true, 'ks', label='intrinsic flux')\n",
        "tgrid = np.linspace(0, 3.3 * period, 100)\n",
        "plt.plot(tgrid, sinewave(tgrid, period=period, amp=amp, f_mean=f_mean), 'r-')\n",
        "plt.ylim(0.5 * np.min(f_true), 2 * np.max(f_true))\n",
        "plt.xlabel('Time (days)'); plt.ylabel('True flux (arb. units)')\n",
        "plt.legend(loc='best')\n",
        "plt.show()\n",
        "print()\n",
        "print(f\"The peak-to-peak amplitude calculated from the data is \"\n",
        "f\"{np.round(f_true.max() - f_true.min(), decimals = 3)}\")"
      ],
      "execution_count": 81,
      "outputs": [
        {
          "output_type": "display_data",
          "data": {
            "text/plain": [
              "<Figure size 640x480 with 1 Axes>"
            ],
            "image/png": "[encoded data removed]"
          },
          "metadata": {}
        },
        {
          "output_type": "stream",
          "name": "stdout",
          "text": [
            "\n",
            "The peak-to-peak amplitude calculated from the data is 0.992\n"
          ]
        }
      ]
    },
    {
      "cell_type": "markdown",
      "metadata": {
        "id": "qoRhDY12XiTU"
      },
      "source": [
        "### The measurement errors are assumed to be Gaussian centered at zero."
      ]
    },
    {
      "cell_type": "code",
      "metadata": {
        "id": "Yj3d8KS_GnLY"
      },
      "source": [
        "#Simulate measurement errors\n",
        "from scipy.stats import norm, uniform\n",
        "np.random.seed(seed) # for reproducibility\n",
        "noise = np.abs(norm.rvs(loc=0.0, scale=amp / 2, size=len(t)))"
      ],
      "execution_count": 105,
      "outputs": []
    },
    {
      "cell_type": "markdown",
      "metadata": {
        "id": "mWeaSCVjXnv9"
      },
      "source": [
        "### The variability in the observed flux is a combination of the intrinsic variability and that due to the measurement error."
      ]
    },
    {
      "cell_type": "code",
      "metadata": {
        "colab": {
          "base_uri": "https://localhost:8080/",
          "height": 449
        },
        "id": "aftO_1QEGt4E",
        "outputId": "4d811434-5c1e-40a9-a071-13352693eb50"
      },
      "source": [
        "#Visualise observed data\n",
        "np.random.seed(1001) # for reproducibility\n",
        "f_obs = norm.rvs(loc=f_true, scale=noise)\n",
        "plt.plot(t, f_true, 'ks', label = 'True flux', alpha = 0.1)\n",
        "# plt.plot(t, f_obs, 'ro', label = 'Obs. flux')\n",
        "plt.errorbar(t, f_obs, yerr=noise, fmt='o', label='Obs. flux')\n",
        "plt.ylim(0.5 * np.min(f_true), 2 * np.max(f_true))\n",
        "plt.xlabel('Time (days)'); plt.ylabel('Flux (arb. units)')\n",
        "plt.legend(loc = 'best')\n",
        "plt.show()\n",
        "#difficult to decouple true variability from variance due to measurement uncertainty"
      ],
      "execution_count": 106,
      "outputs": [
        {
          "output_type": "display_data",
          "data": {
            "text/plain": [
              "<Figure size 640x480 with 1 Axes>"
            ],
            "image/png": "[encoded data removed]"
          },
          "metadata": {}
        }
      ]
    },
    {
      "cell_type": "markdown",
      "metadata": {
        "id": "QQKaSX8NX2FT"
      },
      "source": [
        "### The $F$-test is performed to determine whether the data show significant evidence for variability."
      ]
    },
    {
      "cell_type": "code",
      "metadata": {
        "colab": {
          "base_uri": "https://localhost:8080/"
        },
        "id": "r4NLUr1LIHgv",
        "outputId": "a3cb2cf3-b3dc-47fa-fa71-8cc814458f86"
      },
      "source": [
        "#Construct F-statistic\n",
        "# F_obs = observed variance in the flux / expected variance if H0 is true\n",
        "#         \\approx observed variance in the flux / mean of squares of flux uncertainties\n",
        "F_obs = f_obs.var(ddof = 1) / (noise**2).mean()\n",
        "#Check that it is larger than 1; otherwise there's no point in trying to confirm variability\n",
        "if F_obs > 1:\n",
        "  print(f\"The F-statistic = {np.round(F_obs, decimals=2)} > 1!\")\n",
        "else:\n",
        "  print(f\"The F-statistic = {np.round(F_obs, decimals=2)} < 1, no point trying to detect variability\")"
      ],
      "execution_count": 107,
      "outputs": [
        {
          "output_type": "stream",
          "name": "stdout",
          "text": [
            "The F-statistic = 2.38 > 1!\n"
          ]
        }
      ]
    },
    {
      "cell_type": "code",
      "metadata": {
        "colab": {
          "base_uri": "https://localhost:8080/"
        },
        "id": "6X2Y6IaCIW9n",
        "outputId": "02169503-d75b-4d2b-86de-c3ae26dd0b22"
      },
      "source": [
        "#Can we reject the H0 = 'The observed variability is only due to the measurement uncertainties'?\n",
        "from scipy.stats import f\n",
        "alpha = 0.05\n",
        "df1 = len(f_obs) - 1\n",
        "df2 = len(noise) - 1\n",
        "#p-value = P(F > observed value) = 1 - P(F <= observed value) = 1 - CDF(observed value)\n",
        "pvalue = 1 - f.cdf(F_obs, df1, df2)\n",
        "print(f\"The p-value of the observed F-statistic is {np.round(pvalue, decimals=4)}\")\n",
        "if pvalue <= alpha:\n",
        "  print(\"The p-value is less than the significance, the null hypothesis can be rejected!\")\n",
        "else:\n",
        "  print(\"The p-value is greater than the significance, the null hypothesis cannot be rejected.\")"
      ],
      "execution_count": 108,
      "outputs": [
        {
          "output_type": "stream",
          "name": "stdout",
          "text": [
            "The p-value of the observed F-statistic is 0.0266\n",
            "The p-value is less than the significance, the null hypothesis can be rejected!\n"
          ]
        }
      ]
    },
    {
      "cell_type": "markdown",
      "source": [
        "### NOTE: the significance for the $F$ test might have to be lowered (0.01 to 0.001!) for high-quality variability detection/characterisation. See the discussion in [Goyal et al. 2012 A&A 544A 37](https://ui.adsabs.harvard.edu/abs/2012A%26A...544A..37G/abstract)."
      ],
      "metadata": {
        "id": "l1orvl3sfb8o"
      }
    },
    {
      "cell_type": "markdown",
      "source": [
        "# Spearman rank correlation test\n",
        "### Much more robust than the Pearson test!"
      ],
      "metadata": {
        "id": "ujIhoq-5X1O3"
      }
    },
    {
      "cell_type": "code",
      "source": [
        "from scipy.stats import pearsonr, spearmanr\n",
        "x = np.linspace(-3, 3, 11)\n",
        "y = norm.cdf(x)\n",
        "print(pearsonr(x, y))\n",
        "print(spearmanr(x, y))\n",
        "plt.plot(x, y, 'ko')\n",
        "plt.show()"
      ],
      "metadata": {
        "colab": {
          "base_uri": "https://localhost:8080/",
          "height": 465
        },
        "id": "awOeqaIWbKG6",
        "outputId": "988a5812-0188-4d03-f3b8-2bde82901169"
      },
      "execution_count": 73,
      "outputs": [
        {
          "output_type": "stream",
          "name": "stdout",
          "text": [
            "PearsonRResult(statistic=0.9706709156963573, pvalue=7.110814657396471e-07)\n",
            "SignificanceResult(statistic=1.0, pvalue=0.0)\n"
          ]
        },
        {
          "output_type": "display_data",
          "data": {
            "text/plain": [
              "<Figure size 640x480 with 1 Axes>"
            ],
            "image/png": "[encoded data removed]"
          },
          "metadata": {}
        }
      ]
    },
    {
      "cell_type": "code",
      "source": [
        "from scipy.stats import pearsonr, spearmanr\n",
        "y[8] = 1e5\n",
        "print(pearsonr(x, y))\n",
        "print(spearmanr(x, y))\n",
        "plt.plot(x, y, 'ko')\n",
        "plt.yscale('log')\n",
        "plt.show()"
      ],
      "metadata": {
        "colab": {
          "base_uri": "https://localhost:8080/",
          "height": 465
        },
        "id": "YsJ05Y22bXwJ",
        "outputId": "749e7eb1-ad1b-417b-8ab1-ed0b5f67af14"
      },
      "execution_count": 74,
      "outputs": [
        {
          "output_type": "stream",
          "name": "stdout",
          "text": [
            "PearsonRResult(statistic=0.3000121651531767, pvalue=0.37006276225238033)\n",
            "SignificanceResult(statistic=0.9727272727272729, pvalue=5.14217704904919e-07)\n"
          ]
        },
        {
          "output_type": "display_data",
          "data": {
            "text/plain": [
              "<Figure size 640x480 with 1 Axes>"
            ],
            "image/png": "[encoded data removed]"
          },
          "metadata": {}
        }
      ]
    }
  ]
}