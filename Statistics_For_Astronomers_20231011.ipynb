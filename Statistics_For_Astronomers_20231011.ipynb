{
  "nbformat": 4,
  "nbformat_minor": 0,
  "metadata": {
    "colab": {
      "provenance": [],
      "collapsed_sections": [
        "C_72V4l2leGP",
        "02DYAC6asGLS"
      ],
      "include_colab_link": true
    },
    "kernelspec": {
      "name": "python3",
      "display_name": "Python 3"
    }
  },
  "cells": [
    {
      "cell_type": "markdown",
      "metadata": {
        "id": "view-in-github",
        "colab_type": "text"
      },
      "source": [
        "<a href=\"https://colab.research.google.com/github/sundarjhu/AstrostatsIRyA2023/blob/main/Statistics_For_Astronomers_20231011.ipynb\" target=\"_parent\"><img src=\"https://colab.research.google.com/assets/colab-badge.svg\" alt=\"Open In Colab\"/></a>"
      ]
    },
    {
      "cell_type": "markdown",
      "metadata": {
        "id": "7yFOyTVHkudm"
      },
      "source": [
        "\n",
        "#Example of an $F$-test from Sec. 8.2 of Barlow\n",
        "### Do physics and engineering students get the same grades on a test?\n",
        "#### The answer is \"Yes\" if the mean of the grades for physics students is the same as that for the engineering students. This can be determined using a \"standard\" $t$-test.\n",
        "#### But we first have to confirm that the two sets of grades **have the same population variance**, for which we perform an $F$-test.\n",
        "---\n",
        "\n"
      ]
    },
    {
      "cell_type": "code",
      "metadata": {
        "id": "iyA5sNFdk2Lm"
      },
      "source": [
        "import numpy as np\n",
        "#Grades for physics students\n",
        "data1 = np.array([39, 18, 3, 22, 24, 29, 22, 22, 27, 28, 23, 48])\n",
        "data2 = np.array([42, 23, 36, 35, 38, 42, 33])"
      ],
      "execution_count": 1,
      "outputs": []
    },
    {
      "cell_type": "code",
      "metadata": {
        "id": "mODXaoThl0l-",
        "colab": {
          "base_uri": "https://localhost:8080/"
        },
        "outputId": "ddf216f2-dd6d-4203-d320-a5a4fe2656c8"
      },
      "source": [
        "#Construct the observed F-statistic\n",
        "var1 = data1.var(ddof = 1)\n",
        "var2 = data2.var(ddof = 1)\n",
        "#Define F such that F > 1\n",
        "if var1 > var2:\n",
        "  F = var1 / var2\n",
        "  dof1 = len(data1) - 1\n",
        "  dof2 = len(data2) - 1\n",
        "else:\n",
        "  F = var2 / var1\n",
        "  dof1 = len(data2) - 1\n",
        "  dof2 = len(data1) - 1\n",
        "\n",
        "print(f\"The observed value of the F statistic is {np.round(F, decimals=2)}\")"
      ],
      "execution_count": 3,
      "outputs": [
        {
          "output_type": "stream",
          "name": "stdout",
          "text": [
            "The observed value of the F statistic is 2.83\n"
          ]
        }
      ]
    },
    {
      "cell_type": "code",
      "metadata": {
        "colab": {
          "base_uri": "https://localhost:8080/"
        },
        "id": "LwY7jZybmIXi",
        "outputId": "3c8a4488-36ea-4096-8c49-2f955d4c5a54"
      },
      "source": [
        "#Perform the F-test\n",
        "from scipy.stats import f\n",
        "alpha = 0.05\n",
        "#Calculate number of degrees of freedom for both data sets\n",
        "dof1 = len(data1) - 1\n",
        "dof2 = len(data2) - 1\n",
        "pvalue = 1 - f.cdf(F, dof1, dof2)\n",
        "if pvalue <= alpha:\n",
        "  print(\"The p-value, {}, is lesser than the significance. The null hypothesis can be rejected!\".format(np.format_float_scientific(pvalue, precision = 3)))\n",
        "else:\n",
        "  print(\"The p-value, {}, is greater than the significance. There is no evidence for any difference in the population variances!\".format(np.format_float_scientific(pvalue, precision = 3)))"
      ],
      "execution_count": 4,
      "outputs": [
        {
          "output_type": "stream",
          "name": "stdout",
          "text": [
            "The p-value, 1.064e-01, is greater than the significance. There is no evidence for any difference in the population variances!\n"
          ]
        }
      ]
    },
    {
      "cell_type": "markdown",
      "metadata": {
        "id": "EVc1NRbJF9Qr"
      },
      "source": [
        "# Example of an $F$-test: testing for variability in light curves\n",
        "## For an application in the literature, see [Goyal et al. 2012 A&A 544A 37](https://ui.adsabs.harvard.edu/abs/2012A%26A...544A..37G/abstract)."
      ]
    },
    {
      "cell_type": "markdown",
      "metadata": {
        "id": "zeD5xMNqXSs-"
      },
      "source": [
        "### The intrinsic variability is modelled as a sinusoidal wave, sampled on a non-uniform grid as is usually the case with observations."
      ]
    },
    {
      "cell_type": "code",
      "metadata": {
        "id": "MLldjavg2tum"
      },
      "source": [
        "#Simulate data\n",
        "import numpy as np\n",
        "period = 12.0 #in days, say\n",
        "amp = 1.0 #peak-to-peak variability amplitude\n",
        "n_obs = 22\n",
        "#n_obs observations taken at randomly spaced times over 3.3 * period days\n",
        "seed = 1001\n",
        "np.random.seed(seed)\n",
        "t = np.random.choice(np.linspace(0, 3.3 * period, 2 * n_obs), size = n_obs)\n",
        "f_true = 5.0 + 0.5 * amp * np.sin(2 * np.pi * t / period)\n",
        "ks = np.argsort(t); t = t[ks]; f_true = f_true[ks]"
      ],
      "execution_count": 6,
      "outputs": []
    },
    {
      "cell_type": "code",
      "metadata": {
        "colab": {
          "base_uri": "https://localhost:8080/",
          "height": 473
        },
        "id": "brBraWr4HY-L",
        "outputId": "ac989f5c-b1cf-421f-dc1c-f7ab1c9cae0b"
      },
      "source": [
        "#visualise variability in simulated data\n",
        "from matplotlib import pyplot as plt\n",
        "plt.plot(t, f_true, 'ks')\n",
        "plt.ylim(3, 7)\n",
        "plt.xlabel('Time (days)'); plt.ylabel('True flux (arb. units)')\n",
        "plt.show()\n",
        "print('The peak-to-peak amplitude calculated from the data is ', np.round(f_true.max() - f_true.min(), decimals = 3))"
      ],
      "execution_count": 7,
      "outputs": [
        {
          "output_type": "display_data",
          "data": {
            "text/plain": [
              "<Figure size 640x480 with 1 Axes>"
            ],
            "image/png": "[encoded data removed]"
          },
          "metadata": {}
        },
        {
          "output_type": "stream",
          "name": "stdout",
          "text": [
            "The peak-to-peak amplitude calculated from the data is  0.992\n"
          ]
        }
      ]
    },
    {
      "cell_type": "markdown",
      "metadata": {
        "id": "qoRhDY12XiTU"
      },
      "source": [
        "### The measurement errors are assumed to be Gaussian centered at zero."
      ]
    },
    {
      "cell_type": "code",
      "metadata": {
        "id": "Yj3d8KS_GnLY"
      },
      "source": [
        "#Simulate measurement errors\n",
        "from scipy.stats import norm, uniform\n",
        "scale_factor = 0.5\n",
        "np.random.seed(seed)\n",
        "f_meas = norm.rvs(loc = 0.0, scale = amp * scale_factor, size = n_obs)"
      ],
      "execution_count": 8,
      "outputs": []
    },
    {
      "cell_type": "markdown",
      "metadata": {
        "id": "mWeaSCVjXnv9"
      },
      "source": [
        "### The variability in the observed flux is a combination of the intrinsic variability and that due to the measurement error."
      ]
    },
    {
      "cell_type": "code",
      "metadata": {
        "colab": {
          "base_uri": "https://localhost:8080/",
          "height": 455
        },
        "id": "aftO_1QEGt4E",
        "outputId": "f3aaad71-90c4-4211-8daf-1593da44380e"
      },
      "source": [
        "#Visualise observed data\n",
        "f_obs = f_true + f_meas\n",
        "plt.plot(t, f_true, 'ks', label = 'True flux', alpha = 0.1)\n",
        "# plt.plot(t, f_obs, 'ro', label = 'Obs. flux')\n",
        "plt.errorbar(t, f_obs, yerr=np.abs(f_meas), fmt='o', label='Obs. flux')\n",
        "plt.ylim(3, 7)\n",
        "plt.xlabel('Time (days)'); plt.ylabel('Flux (arb. units)')\n",
        "plt.legend(loc = 'best')\n",
        "plt.show()\n",
        "#difficult to decouple true variability from variance due to measurement uncertainty"
      ],
      "execution_count": 20,
      "outputs": [
        {
          "output_type": "display_data",
          "data": {
            "text/plain": [
              "<Figure size 640x480 with 1 Axes>"
            ],
            "image/png": "[encoded data removed]"
          },
          "metadata": {}
        }
      ]
    },
    {
      "cell_type": "markdown",
      "metadata": {
        "id": "QQKaSX8NX2FT"
      },
      "source": [
        "### The $F$-test is performed to determine whether the data show significant evidence for variability."
      ]
    },
    {
      "cell_type": "code",
      "metadata": {
        "colab": {
          "base_uri": "https://localhost:8080/"
        },
        "id": "r4NLUr1LIHgv",
        "outputId": "4a59c0eb-6894-4b0d-cebd-eefc759c7abc"
      },
      "source": [
        "#Construct F-statistic\n",
        "F_obs = f_obs.var(ddof = 1) / f_meas.var(ddof = 1)\n",
        "#Check that it is larger than 1; otherwise there's no point in trying to confirm variability\n",
        "if F_obs > 1:\n",
        "  print(\"The F-statistic is greater than 1!\")\n",
        "else:\n",
        "  print(\"The F-statistic is less than 1, no point trying to detect variability\")"
      ],
      "execution_count": 10,
      "outputs": [
        {
          "output_type": "stream",
          "name": "stdout",
          "text": [
            "The F-statistic is greater than 1!\n"
          ]
        }
      ]
    },
    {
      "cell_type": "code",
      "metadata": {
        "colab": {
          "base_uri": "https://localhost:8080/"
        },
        "id": "6X2Y6IaCIW9n",
        "outputId": "881f5502-8a8a-4f37-c8ab-df3701a04214"
      },
      "source": [
        "#Can we reject the H0 = 'The observed variability is only due to the measurement uncertainties'?\n",
        "from scipy.stats import f\n",
        "alpha = 0.05\n",
        "df1 = len(f_obs) - 1\n",
        "df2 = len(f_meas) - 1\n",
        "#p-value = P(F > observed value) = 1 - P(F <= observed value) = 1 - CDF(observed value)\n",
        "pvalue = 1 - f.cdf(F_obs, df1, df2)\n",
        "print(f\"The p-value of the observed F-statistic is {np.round(pvalue, decimals=3)}\")\n",
        "if pvalue <= alpha:\n",
        "  print(\"The p-value is less than the significance, the null hypothesis can be rejected!\")\n",
        "else:\n",
        "  print(\"The p-value is greater than the significance, the null hypothesis cannot be rejected.\")"
      ],
      "execution_count": 14,
      "outputs": [
        {
          "output_type": "stream",
          "name": "stdout",
          "text": [
            "The p-value of the observed F-statistic is 0.159\n",
            "The p-value is greater than the significance, the null hypothesis cannot be rejected.\n"
          ]
        }
      ]
    }
  ]
}