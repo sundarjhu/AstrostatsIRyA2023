{
  "nbformat": 4,
  "nbformat_minor": 0,
  "metadata": {
    "colab": {
      "provenance": [],
      "authorship_tag": "ABX9TyPSo17/O6kHN41HQqhKmk6P",
      "include_colab_link": true
    },
    "kernelspec": {
      "name": "python3",
      "display_name": "Python 3"
    },
    "language_info": {
      "name": "python"
    }
  },
  "cells": [
    {
      "cell_type": "markdown",
      "metadata": {
        "id": "view-in-github",
        "colab_type": "text"
      },
      "source": [
        "<a href=\"https://colab.research.google.com/github/sundarjhu/AstrostatsIRyA2023/blob/main/Statistics_For_Astronomers_20230828.ipynb\" target=\"_parent\"><img src=\"https://colab.research.google.com/assets/colab-badge.svg\" alt=\"Open In Colab\"/></a>"
      ]
    },
    {
      "cell_type": "code",
      "execution_count": 32,
      "metadata": {
        "id": "Tt51kfHcnRkv"
      },
      "outputs": [],
      "source": [
        "import numpy as np\n",
        "import matplotlib.pyplot as plt\n",
        "from scipy.stats import bernoulli"
      ]
    },
    {
      "cell_type": "markdown",
      "source": [
        "#### Let's use the Bernoulli distribution as an example to inspect the various methods available in the `scipy.stats` packages."
      ],
      "metadata": {
        "id": "e-ZvKnqVqLA4"
      }
    },
    {
      "cell_type": "code",
      "source": [
        "p = 0.25 # probabilty of one success in one trial\n",
        "# The population mean and variance in terms of p\n",
        "mean_th = p\n",
        "var_th = p * (1-p)\n",
        "print(f\"Population mean: {mean_th}\")\n",
        "print(f\"Population variance: {var_th}\")"
      ],
      "metadata": {
        "id": "9Y8Gf13zR1Q4",
        "outputId": "e92d6536-d1d0-4d9b-aca6-4b394d2504f1",
        "colab": {
          "base_uri": "https://localhost:8080/"
        }
      },
      "execution_count": 17,
      "outputs": [
        {
          "output_type": "stream",
          "name": "stdout",
          "text": [
            "Population mean: 0.25\n",
            "Population variance: 0.1875\n"
          ]
        }
      ]
    },
    {
      "cell_type": "markdown",
      "source": [
        "##### We can compute expectation values for various moments and for arbitrary functions of a Bernoulli distribution"
      ],
      "metadata": {
        "id": "z1aL-WleRj8g"
      }
    },
    {
      "cell_type": "code",
      "source": [
        "# The first four moments\n",
        "mean, var, skew, kurt = bernoulli.stats(p, moments='mvsk')\n",
        "print(f\"First four moments: {mean, var, skew, kurt}\")\n",
        "# What should p be for the skew to be zero?\n",
        "\n",
        "# Verify that the expectation value of x**2 is correctly computed\n",
        "def func(x):\n",
        "  return x**2\n",
        "print(f\"Expectation value of x**2: {bernoulli.expect(func, args=(p,))}\")\n",
        "print(f\"Theoretical value: {var_th + mean_th**2}\")"
      ],
      "metadata": {
        "id": "hakxPnPsR63v",
        "outputId": "658e7ee5-79bb-405f-c120-a8c138575127",
        "colab": {
          "base_uri": "https://localhost:8080/"
        }
      },
      "execution_count": 25,
      "outputs": [
        {
          "output_type": "stream",
          "name": "stdout",
          "text": [
            "First four moments: (0.25, 0.1875, 1.1547005383792515, -0.6666666666666665)\n",
            "Expectation value of x**2: 0.25\n",
            "Theoretical value: 0.25\n"
          ]
        }
      ]
    },
    {
      "cell_type": "code",
      "source": [
        "# Generate N random variates (`rvs`) from this distribution\n",
        "N = 10\n",
        "x = bernoulli.rvs(p, size=N)\n",
        "print(f\"{N} random deviates: {x}\")\n",
        "# Remember, these methods are vectorisable!\n",
        "# x = bernoulli.rvs(p, size=(N, 5)) # will result in an (N, 5) array of variates\n",
        "\n",
        "# Compare the sample mean and sample variance to the population values\n",
        "print(f\"sample mean / population mean = {x.mean()}/{mean_th} = {np.round(x.mean() / mean_th, decimals=2)}\")\n",
        "print(f\"sample variance / population variance = {x.var()}/{var_th} = {np.round(x.var() / var_th, decimals=2)}\")"
      ],
      "metadata": {
        "id": "tHVmAr7Bnbpl",
        "outputId": "f1e6441a-b8ba-4014-872f-6ab58fc9166a",
        "colab": {
          "base_uri": "https://localhost:8080/"
        }
      },
      "execution_count": 31,
      "outputs": [
        {
          "output_type": "stream",
          "name": "stdout",
          "text": [
            "10 random deviates: [0 0 0 0 0 0 0 0 0 0]\n",
            "sample mean / population mean = 0.0/0.25 = 0.0\n",
            "sample variance / population variance = 0.0/0.1875 = 0.0\n"
          ]
        }
      ]
    },
    {
      "cell_type": "markdown",
      "source": [
        "#### If you're sick of having to specify the parameters of the distribution all the time, you can create a \"frozen object\" with the parameters held fixed."
      ],
      "metadata": {
        "id": "WVIHksN2Tlk9"
      }
    },
    {
      "cell_type": "code",
      "source": [
        "bern_distrib = bernoulli(p)"
      ],
      "metadata": {
        "id": "BC-TdJDzTq5G"
      },
      "execution_count": 38,
      "outputs": []
    },
    {
      "cell_type": "markdown",
      "source": [
        "#### Subsequently, you can use all the methods available to this object"
      ],
      "metadata": {
        "id": "trHzkZK3TuV2"
      }
    },
    {
      "cell_type": "code",
      "source": [
        "bern_distrib.mean()\n",
        "bern_distrib.var()\n",
        "bern_distrib.rvs(size=N)"
      ],
      "metadata": {
        "id": "dqbk2bskT3xj",
        "outputId": "7989f8f2-9cf4-4856-cbb1-0194b404dbf5",
        "colab": {
          "base_uri": "https://localhost:8080/"
        }
      },
      "execution_count": 39,
      "outputs": [
        {
          "output_type": "execute_result",
          "data": {
            "text/plain": [
              "array([1, 0, 0, 1, 1, 0, 0, 0, 0, 0])"
            ]
          },
          "metadata": {},
          "execution_count": 39
        }
      ]
    },
    {
      "cell_type": "markdown",
      "source": [
        "#### This is a discrete distribution, so it only has valid PMF at integral values. The CDF, therefore, also increases only at integral values.\n",
        "\n",
        "\n",
        "#### let's compute and display the PMF/CDF. For the CDF, note the usage of `plt.step` and the `post` option for its `where` argument."
      ],
      "metadata": {
        "id": "lcnm8yBWqZfA"
      }
    },
    {
      "cell_type": "code",
      "source": [
        "xfull = np.array([-0.5, 0.0, 1.0, 1.5])\n",
        "x = np.array([0, 1])\n",
        "fig, ax = plt.subplots(1, 1)\n",
        "ax.plot(x, bern_distrib.pmf(x), 'bo', ms=8)\n",
        "ax.vlines(x, 0, bern_distrib.pmf(x), colors='b', lw=5, alpha=0.5)\n",
        "ax.set_xlabel('$x$')\n",
        "ax.set_ylabel('PMF')\n",
        "ax.set_ylim(-0.1, 1.1)\n",
        "ax2 = plt.twinx()\n",
        "ax2.step(xfull, bern_distrib.cdf(xfull), where='post')\n",
        "ax2.set_ylabel('CDF')\n",
        "ax2.set_ylim(-0.1, 1.1)\n",
        "plt.show()"
      ],
      "metadata": {
        "id": "fu5zKLlunj4Y",
        "outputId": "89f64004-c48b-468e-f085-03cb5239146d",
        "colab": {
          "base_uri": "https://localhost:8080/",
          "height": 449
        }
      },
      "execution_count": 62,
      "outputs": [
        {
          "output_type": "display_data",
          "data": {
            "text/plain": [
              "<Figure size 640x480 with 2 Axes>"
            ],
            "image/png": "[encoded data removed]"
          },
          "metadata": {}
        }
      ]
    },
    {
      "cell_type": "markdown",
      "source": [
        "#### The inverse of the CDF, the quantile function, is also called the percentile point function (PPF). The `ppf` method can be used to print out its values.\n",
        "\n",
        "#### Because the Bernoulli CDF only changes at integral values, the PPF will only return integral values\n",
        "\n",
        "#### Let us interpret the output of the following together!"
      ],
      "metadata": {
        "id": "lrOhqXSiY9Pe"
      }
    },
    {
      "cell_type": "code",
      "source": [
        "print(bern_distrib.ppf(0.0))\n",
        "print(bern_distrib.ppf(1.0))\n",
        "\n",
        "print(bern_distrib.ppf(-0.5))\n",
        "print(bern_distrib.ppf(3.5))\n",
        "\n",
        "# print(bern_distrib.ppf(q)) # What should q be so that this returns 0?"
      ],
      "metadata": {
        "id": "kgtnxv5dZHCW",
        "outputId": "3e3fbf26-57b2-4139-d42a-5ab35e0e5080",
        "colab": {
          "base_uri": "https://localhost:8080/"
        }
      },
      "execution_count": 71,
      "outputs": [
        {
          "output_type": "stream",
          "name": "stdout",
          "text": [
            "-1.0\n",
            "1.0\n",
            "nan\n",
            "nan\n",
            "0.0\n"
          ]
        }
      ]
    },
    {
      "cell_type": "markdown",
      "source": [
        "[The median of the Bernoulli distribution is tricky...](https://wikimedia.org/api/rest_v1/media/math/render/svg/482cc0f5f8c739e3fe2462d72ee5b9f1f7b5d5a4) because the result has to be an integer."
      ],
      "metadata": {
        "id": "ysPeiyXwao1y"
      }
    },
    {
      "cell_type": "code",
      "source": [
        "# The median of the Bernoulli distribution\n",
        "print(bern_distrib.ppf(0.5))\n",
        "bern_distrib.median()"
      ],
      "metadata": {
        "id": "39WMu4rLZQR2",
        "outputId": "c82440dc-1030-46a4-f91e-4d73fc94bdd3",
        "colab": {
          "base_uri": "https://localhost:8080/"
        }
      },
      "execution_count": 73,
      "outputs": [
        {
          "output_type": "stream",
          "name": "stdout",
          "text": [
            "0.0\n"
          ]
        },
        {
          "output_type": "execute_result",
          "data": {
            "text/plain": [
              "0.0"
            ]
          },
          "metadata": {},
          "execution_count": 73
        }
      ]
    }
  ]
}